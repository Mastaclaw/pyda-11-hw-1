{
 "cells": [
  {
   "cell_type": "markdown",
   "metadata": {},
   "source": [
    "**Задание 1**. Дан список с визитами по городам и странам. \n",
    "Напишите код, который возвращает отфильтрованный список geo_logs, содержащий только визиты из России."
   ]
  },
  {
   "cell_type": "code",
   "execution_count": 2,
   "metadata": {},
   "outputs": [],
   "source": [
    "geo_logs = [\n",
    "    {'visit1': ['Москва', 'Россия']},\n",
    "    {'visit2': ['Дели', 'Индия']},\n",
    "    {'visit3': ['Владимир', 'Россия']},\n",
    "    {'visit4': ['Лиссабон', 'Португалия']},\n",
    "    {'visit5': ['Париж', 'Франция']},\n",
    "    {'visit6': ['Лиссабон', 'Португалия']},\n",
    "    {'visit7': ['Тула', 'Россия']},\n",
    "    {'visit8': ['Тула', 'Россия']},\n",
    "    {'visit9': ['Курск', 'Россия']},\n",
    "    {'visit10': ['Архангельск', 'Россия']}\n",
    "]"
   ]
  },
  {
   "cell_type": "code",
   "execution_count": 50,
   "metadata": {},
   "outputs": [
    {
     "name": "stdout",
     "output_type": "stream",
     "text": [
      "[{'visit1': ['Москва', 'Россия']}, {'visit2': ['Владимир', 'Россия']}, {'visit3': ['Тула', 'Россия']}, {'visit4': ['Тула', 'Россия']}, {'visit5': ['Курск', 'Россия']}, {'visit6': ['Архангельск', 'Россия']}]\n"
     ]
    }
   ],
   "source": [
    "filtered = [] #искомый список\n",
    "rucount = 0 #счетчик удачных совпадений\n",
    "\n",
    "for visit in geo_logs: #перечисляем корневые элементы\n",
    "#     print(visit)\n",
    "    for key in visit:#с помощью этого костыля находим значения из словаря, чтобы не использовать на какой итерации visitN мы находимся\n",
    "#         print(key)\n",
    "        v_value = visit[key] #благодаря перечислению мы можем не обращаться к значению словаря по ключу visitN а с помощью перечислителя key\n",
    "        if v_value.count('Россия'): #находим Россию в списке словаря visitN\n",
    "            rucount += 1 #Увеличиваем счетчик до добавления, т.к. нумерация начинается с единицы\n",
    "            filtered.append({'visit'+str(rucount) : v_value}) #добавляем элемент к искомому списку\n",
    "\n",
    "print(filtered)"
   ]
  },
  {
   "cell_type": "code",
   "execution_count": 76,
   "metadata": {},
   "outputs": [
    {
     "name": "stdout",
     "output_type": "stream",
     "text": [
      "[{'visit1': ['Москва', 'Россия']}, ['Москва', 'Россия'], {'visit3': ['Владимир', 'Россия']}, ['Владимир', 'Россия'], {'visit7': ['Тула', 'Россия']}, ['Тула', 'Россия'], {'visit8': ['Тула', 'Россия']}, ['Тула', 'Россия'], {'visit9': ['Курск', 'Россия']}, ['Курск', 'Россия'], {'visit10': ['Архангельск', 'Россия']}, ['Архангельск', 'Россия']]\n"
     ]
    }
   ],
   "source": [
    "# geo_logs = [\n",
    "#     {'visit1': ['Москва', 'Россия']},\n",
    "#     {'visit2': ['Дели', 'Индия']},\n",
    "#     {'visit3': ['Владимир', 'Россия']},\n",
    "#     {'visit4': ['Лиссабон', 'Португалия']},\n",
    "#     {'visit5': ['Париж', 'Франция']},\n",
    "#     {'visit6': ['Лиссабон', 'Португалия']},\n",
    "#     {'visit7': ['Тула', 'Россия']},\n",
    "#     {'visit8': ['Тула', 'Россия']},\n",
    "#     {'visit9': ['Курск', 'Россия']},\n",
    "#     {'visit10': ['Архангельск', 'Россия']}\n",
    "# ]\n",
    "# visits_from_russia = []\n",
    "# for visit in geo_logs:\n",
    "#     for x in visit.values():\n",
    "#          if x[1] == 'Россия':\n",
    "#             visits_from_russia += visit, x\n",
    "# print (visits_from_russia)"
   ]
  },
  {
   "cell_type": "markdown",
   "metadata": {},
   "source": [
    "**Задание 2**. Выведите на экран все уникальные гео-ID из значений словаря ids. Т. е. список вида [213, 15, 54, 119, 98, 35]"
   ]
  },
  {
   "cell_type": "code",
   "execution_count": 55,
   "metadata": {},
   "outputs": [],
   "source": [
    "ids = {'user1': [213, 213, 213, 15, 213], \n",
    "       'user2': [54, 54, 119, 119, 119], \n",
    "       'user3': [213, 98, 98, 35]}"
   ]
  },
  {
   "cell_type": "code",
   "execution_count": 62,
   "metadata": {},
   "outputs": [
    {
     "name": "stdout",
     "output_type": "stream",
     "text": [
      "[213, 119, 98, 54, 35, 15]\n"
     ]
    }
   ],
   "source": [
    "geo_id = []\n",
    "for users in ids.values():\n",
    "    geo_id += users\n",
    "# print(list(set(geo_id)))\n",
    "print(list(sorted(set(geo_id), reverse=True)))"
   ]
  },
  {
   "cell_type": "markdown",
   "metadata": {},
   "source": [
    "**Задание 3**. Дан список поисковых запросов. Получить распределение количества слов в них. \n",
    "Т. е. поисковых запросов из одного - слова 5%, из двух - 7%, из трех - 3% и т.д."
   ]
  },
  {
   "cell_type": "code",
   "execution_count": 35,
   "metadata": {},
   "outputs": [],
   "source": [
    "queries = [\n",
    "    'смотреть сериалы онлайн',\n",
    "    'новости спорта',\n",
    "    'афиша кино',\n",
    "    'курс доллара',\n",
    "    'сериалы этим летом',\n",
    "    'курс по питону',\n",
    "    'сериалы про спорт',\n",
    "]"
   ]
  },
  {
   "cell_type": "code",
   "execution_count": 21,
   "metadata": {},
   "outputs": [
    {
     "name": "stdout",
     "output_type": "stream",
     "text": [
      "Поисковых запросов из 3 слов: 57.14 %\n",
      "Поисковых запросов из 2 слов: 42.86 %\n"
     ]
    }
   ],
   "source": [
    "counter = {} #словать в который будем все бросать\n",
    "\n",
    "for query in queries:\n",
    "    splitted = query.split() #делим на слова (честно у тебя спиздил)))\n",
    "    cnt = len(splitted) \n",
    "    if cnt not in counter: #если в нашем словаре еще нет элемента для такого количества слов\n",
    "        counter[cnt] = 1 #значит мы нашли первый элемент, записываем его\n",
    "    else: #если такое количество слов уже попадалось\n",
    "        counter[cnt] += 1 #увеличиваем счетчик на один\n",
    "\n",
    "# print (counter)\n",
    "queries_len = len(queries)\n",
    "for k, v in counter.items():\n",
    "    y = (v/queries_len)*100\n",
    "    y = float(\"%.2f\" % y)\n",
    "    print(f'Поисковых запросов из {k} слов: {y} %')"
   ]
  },
  {
   "cell_type": "markdown",
   "metadata": {},
   "source": [
    "**Задание 4**. Дана статистика рекламных каналов по объемам продаж. Напишите скрипт, который возвращает название канала с максимальным объемом.\n",
    "Т. е. в данном примере скрипт должен возвращать 'yandex'."
   ]
  },
  {
   "cell_type": "code",
   "execution_count": 29,
   "metadata": {},
   "outputs": [],
   "source": [
    "stats = {'facebook': 55, 'yandex': 120, 'vk': 115, 'google': 99, 'email': 42, 'ok': 98}"
   ]
  },
  {
   "cell_type": "code",
   "execution_count": 30,
   "metadata": {},
   "outputs": [
    {
     "name": "stdout",
     "output_type": "stream",
     "text": [
      "yandex\n"
     ]
    }
   ],
   "source": [
    "max_val = max(stats.values())\n",
    "\n",
    "for name, val in stats.items():\n",
    "    if val == max_val:\n",
    "        print(name)"
   ]
  },
  {
   "cell_type": "markdown",
   "metadata": {},
   "source": [
    "**Задание 5**. Напишите код для преобразования произвольного списка вида ['2018-01-01', 'yandex', 'cpc', 100] (он может быть любой длины) в словарь {'2018-01-01': {'yandex': {'cpc': 100}}}"
   ]
  },
  {
   "cell_type": "code",
   "execution_count": 10,
   "metadata": {},
   "outputs": [
    {
     "name": "stdout",
     "output_type": "stream",
     "text": [
      "{'2018-01-01': {'yandex': {'cpc': 100}}}\n"
     ]
    }
   ],
   "source": [
    "rlist = ['2018-01-01', 'yandex', 'cpc', 100]\n",
    "\n",
    "rdict = {} #сюда будем класть \n",
    "\n",
    "rbuffer = False #тут будет лежать между итерациями цикла\n",
    "\n",
    "lenght = len(rlist)-1 #разворачивать список было впадлу, поэтому тупо пойдем с конца. Минус один т.к. нумерация идет с нуля.\n",
    "# print(lenght)\n",
    "end = 0 #переменная до которой будем идти\n",
    "\n",
    "while lenght >= end: #проверяем список пока текущая длина больше конца цикла\n",
    "    rdict = {} #обнуляем словарь перед итерацией, т.к. в нем лежит прошлая итерация, которая нам не нужна\n",
    "    if rbuffer == False: #проверяем, если это первая итерация\n",
    "        rbuffer = rlist[lenght] #то просто кладем в буфер значение\n",
    "#         print(rbuffer)\n",
    "    else: #если итерация не первая\n",
    "        rdict[rlist[lenght]] = rbuffer #кладем в ключ словаря буфер прошлой итерации\n",
    "#         print(rlist[lenght])\n",
    "        rbuffer = rdict #записываем текущий словарь в буфер\n",
    "    \n",
    "    lenght -= 1 #убавляем текущую позицию в списке на единицу\n",
    "\n",
    "print (rdict)"
   ]
  }
 ],
 "metadata": {
  "kernelspec": {
   "display_name": "Python 3",
   "language": "python",
   "name": "python3"
  },
  "language_info": {
   "codemirror_mode": {
    "name": "ipython",
    "version": 3
   },
   "file_extension": ".py",
   "mimetype": "text/x-python",
   "name": "python",
   "nbconvert_exporter": "python",
   "pygments_lexer": "ipython3",
   "version": "3.7.6"
  }
 },
 "nbformat": 4,
 "nbformat_minor": 2
}
