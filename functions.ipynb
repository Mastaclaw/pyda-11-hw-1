{
 "cells": [
  {
   "cell_type": "markdown",
   "metadata": {},
   "source": [
    "Вы работаете секретарем и вам постоянно приходят различные документы. Вы должны быть очень внимательны, чтобы не потерять ни один документ. Каталог документов хранится в следующем виде:"
   ]
  },
  {
   "cell_type": "code",
   "execution_count": 1,
   "metadata": {},
   "outputs": [],
   "source": [
    "documents = [\n",
    "    {'type': 'passport', 'number': '2207 876234', 'name': 'Василий Гупкин'},\n",
    "    {'type': 'invoice', 'number': '11-2', 'name': 'Геннадий Покемонов'},\n",
    "    {'type': 'insurance', 'number': '10006', 'name': 'Аристарх Павлов'}\n",
    "]"
   ]
  },
  {
   "cell_type": "markdown",
   "metadata": {},
   "source": [
    "Перечень полок, на которых находятся документы хранится в следующем виде:"
   ]
  },
  {
   "cell_type": "code",
   "execution_count": 2,
   "metadata": {},
   "outputs": [],
   "source": [
    "directories = {\n",
    "    '1': ['2207 876234', '11-2'],\n",
    "    '2': ['10006'],\n",
    "    '3': []\n",
    "}"
   ]
  },
  {
   "cell_type": "markdown",
   "metadata": {},
   "source": [
    "Необходимо реализовать пользовательские команды (внимание! это не название функций, которые должны быть выразительными, а команды, которые вводит пользователь, чтобы получить необходимый результат):\n",
    "  \n",
    "- p – people – команда, которая спросит номер документа и выведет имя человека, которому он принадлежит;  \n",
    "- s – shelf – команда, которая спросит номер документа и выведет номер полки, на которой он находится  \n",
    "*Правильно обработайте ситуации, когда пользователь будет вводить несуществующий документ*.\n",
    "- l – list – команда, которая выведет список всех документов в формате   \n",
    "**passport \"2207 876234\" \"Василий Гупкин\"**  \n",
    "- as – add shelf – команда, которая спросит номер новой полки и добавит ее в перечень. *Предусмотрите случай, когда пользователь добавляет полку, которая уже существует*.\n",
    "- d – delete – команда, которая спросит номер документа и удалит его из каталога и из перечня полок. *Предусмотрите сценарий, когда пользователь вводит несуществующий документ*;  \n",
    "- m – move – команда, которая спросит номер документа и целевую полку и переместит его с текущей полки на целевую. *Корректно обработайте кейсы, когда пользователь пытается переместить несуществующий документ или переместить документ на несуществующую полку*;  \n",
    "- a – add – команда, которая добавит новый документ в каталог и в перечень полок, спросив его номер, тип, имя владельца и номер полки, на котором он будет храниться. *Корректно обработайте ситуацию, когда пользователь будет пытаться добавить документ на несуществующую полку*."
   ]
  },
  {
   "cell_type": "code",
   "execution_count": 3,
   "metadata": {
    "scrolled": true
   },
   "outputs": [],
   "source": [
    "def main():\n",
    "    while True:\n",
    "        found = False\n",
    "        user_input = input('Введите команду:')\n",
    "        # p – people – команда, которая спросит номер документа и выведет имя человека, которому он принадлежит;\n",
    "        if user_input == 'p':\n",
    "            user_input_p = input('Введите номер документа: ')\n",
    "            for document in documents:\n",
    "                if user_input_p == document['number']:\n",
    "                    print('Имя: ', document['name'])\n",
    "                    found = True\n",
    "            if found != True: \n",
    "                print('Такого документа нет :(')\n",
    "\n",
    "        # s – shelf – команда, которая спросит номер документа и выведет номер полки, на которой он находится\n",
    "        elif user_input == 's':\n",
    "            user_input_s = input('Введите номер документа: ')\n",
    "            for shelf, number in directories.items():\n",
    "                if number.count(user_input_s) > 0:\n",
    "                    print('Номер полки: ', shelf)\n",
    "                    found = True\n",
    "            if found != True: \n",
    "                print('Такого документа нет, найти полку не получилось :(')\n",
    "\n",
    "        # l – list – команда, которая выведет список всех документов в формате\n",
    "        elif user_input == 'l':\n",
    "            for document in documents:\n",
    "                print(f\"{document['type']} \\\"{document['number']}\\\" \\\"{document['name']}\\\"\")\n",
    "\n",
    "        # as – add shelf – команда, которая спросит номер новой полки и добавит ее в перечень.\n",
    "        elif user_input == 'as':\n",
    "            user_input_as = input('Введите номер для новой полки: ')\n",
    "            if user_input_as in directories.keys():\n",
    "                print('Такая полка уже существует :(')\n",
    "            directories[user_input_as]=''\n",
    "\n",
    "        # d – delete – команда, которая спросит номер документа и удалит его из каталога и из перечня полок.\n",
    "        elif user_input == 'd':\n",
    "            user_input_d = input('Введите номер документа, который необходимо удалить: ')\n",
    "            # версия 1 решения:\n",
    "            #     for document in documents:\n",
    "            #         i = 0\n",
    "            #         if user_input_d != document['number']: \n",
    "            #             i += 1\n",
    "            #         else:    \n",
    "            #             documents.remove(document) \n",
    "            #             print(documents)\n",
    "            # версия 2 решения показалась удачней:\n",
    "            for document in documents:\n",
    "                if document['number'] == user_input_d:\n",
    "                    documents.remove(document)\n",
    "                    print('Документ успешно удален из documents')\n",
    "                    found = True\n",
    "            if found != True: \n",
    "                print('Такого документа нет :(')\n",
    "            for shelf, number in directories.items():\n",
    "                if number.count(user_input_d) > 0:\n",
    "                    del directories[shelf]\n",
    "                    print('Документ успешно удален из directories')\n",
    "\n",
    "        # m – move – команда, которая спросит номер документа и целевую полку и переместит его с текущей полки на целевую.\n",
    "        elif user_input == 'm':\n",
    "            print(directories)\n",
    "            user_input_m1 = input('Введите номер документа: ')\n",
    "            user_input_m2 = input('Введите целевую полку: ')\n",
    "            if user_input_m2 not in directories.keys():\n",
    "                print('Такой полки нет')\n",
    "            for shelf, number in directories.items():\n",
    "        #         if shelf.count(user_input_m2) != shelf:\n",
    "        #             shelf_found = False\n",
    "        #         else:\n",
    "        #             directories[user_input_m2].append(user_input_m1)\n",
    "\n",
    "                if number.count(user_input_m1) > 0 and user_input_m2 in directories.keys():\n",
    "                    number.remove(user_input_m1)\n",
    "                    directories[user_input_m2].append(user_input_m1)\n",
    "                    found = True\n",
    "            if found != True: \n",
    "                print('Такого документа нет.')\n",
    "\n",
    "        # a – add – команда, которая добавит новый документ в каталог и в перечень полок, спросив его номер, тип, имя владельца и номер полки, на котором он будет храниться.\n",
    "        elif user_input == 'a':\n",
    "            print(directories)\n",
    "            print(documents)\n",
    "            user_input_a1 = input('Введите тип документа: ')\n",
    "            user_input_a2 = input('Введите его номер: ')\n",
    "            user_input_a3 = input('Введите имя владельца: ')\n",
    "            user_input_a4 = input('Введите номер полки: ')\n",
    "            new_dict = {'type': user_input_a1, 'number': user_input_a2, 'name': user_input_a3}\n",
    "            documents.append(new_dict)\n",
    "            if user_input_a4 not in directories.keys():\n",
    "                print('Такой полки нет')\n",
    "            else:\n",
    "                directories[user_input_a4].append(user_input_a2)\n",
    "            print(documents)\n",
    "            print(directories)\n",
    "        elif user_input == 'exit':\n",
    "            print('Операция завершена')\n",
    "            break\n",
    "\n"
   ]
  },
  {
   "cell_type": "code",
   "execution_count": 5,
   "metadata": {},
   "outputs": [
    {
     "name": "stdout",
     "output_type": "stream",
     "text": [
      "Введите команду:l\n",
      "passport \"2207 876234\" \"Василий Гупкин\"\n",
      "invoice \"11-2\" \"Геннадий Покемонов\"\n",
      "insurance \"10006\" \"Аристарх Павлов\"\n",
      "Введите команду:exit\n",
      "Операция завершена\n"
     ]
    }
   ],
   "source": [
    "main()"
   ]
  },
  {
   "cell_type": "code",
   "execution_count": null,
   "metadata": {},
   "outputs": [],
   "source": []
  },
  {
   "cell_type": "code",
   "execution_count": null,
   "metadata": {},
   "outputs": [],
   "source": []
  },
  {
   "cell_type": "code",
   "execution_count": null,
   "metadata": {},
   "outputs": [],
   "source": []
  },
  {
   "cell_type": "code",
   "execution_count": null,
   "metadata": {},
   "outputs": [],
   "source": []
  }
 ],
 "metadata": {
  "kernelspec": {
   "display_name": "Python 3",
   "language": "python",
   "name": "python3"
  },
  "language_info": {
   "codemirror_mode": {
    "name": "ipython",
    "version": 3
   },
   "file_extension": ".py",
   "mimetype": "text/x-python",
   "name": "python",
   "nbconvert_exporter": "python",
   "pygments_lexer": "ipython3",
   "version": "3.7.6"
  }
 },
 "nbformat": 4,
 "nbformat_minor": 2
}
